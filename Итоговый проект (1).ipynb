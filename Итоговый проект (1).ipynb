{
 "cells": [
  {
   "cell_type": "markdown",
   "metadata": {},
   "source": [
    "\n",
    "# Описание проекта\n",
    "\n",
    "Вам предоставлена выгрузка заказов из CRM компании, занимающейся В2В-продажами.  На основе\n",
    "этих данных вам нужно подготовить дашборд для директора компании, который даст общее\n",
    "понимание ситуации с продажами, наглядно покажет ответы на вопросы:\n",
    "\n",
    "1. Как менеджеры выполняют план продаж?\n",
    "2. Какова помесячная динамика выполнения плана, есть ли сезонные «просадки»?\n",
    "3. Какова география продаж, какие регионы самые доходные?\n",
    "4. Как влияет канал продаж на выполнение плана, конверсию, длительность сделки?\n",
    "5. Какие товарные категории пользуются спросом (по числу клиентов) и по продажам?\n",
    "\n",
    "Дашборд должен дать информацию для принятия решений:\n",
    "Профилировать ли менеджеров по товарным категориям или каналам продаж (где они лучше закрывают сделки, выполняют план)\n",
    "Расширять самые доходные каналы продаж, регионы, где есть высокий спрос\n",
    "\n",
    "\n",
    "Задание\n",
    "\n",
    "Откройте файл с данными и изучите общую информацию\n",
    "Подготовьте данные\n",
    "Проведите исследовательский анализ данных\n",
    "Составьте портрет менеджера каждого региона\n",
    "Проведите исследование статистических показателей\n",
    "Проверьте гипотезы\n",
    "Напишите общий вывод\n"
   ]
  },
  {
   "cell_type": "markdown",
   "metadata": {},
   "source": [
    "# Загрузка данных, изучение общей информации"
   ]
  },
  {
   "cell_type": "code",
   "execution_count": 4,
   "metadata": {},
   "outputs": [
    {
     "name": "stdout",
     "output_type": "stream",
     "text": [
      "<class 'pandas.core.frame.DataFrame'>\n",
      "RangeIndex: 116 entries, 0 to 115\n",
      "Data columns (total 13 columns):\n",
      " #   Column                        Non-Null Count  Dtype         \n",
      "---  ------                        --------------  -----         \n",
      " 0   Номер заказа                  116 non-null    int64         \n",
      " 1   Канал продаж                  116 non-null    object        \n",
      " 2   Продуктовый сегмент           116 non-null    object        \n",
      " 3   Менеджер                      116 non-null    object        \n",
      " 4   Название заказа               116 non-null    object        \n",
      " 5   Продавец                      116 non-null    object        \n",
      " 6   Город                         116 non-null    object        \n",
      " 7   Продажи факт, тыс.руб         116 non-null    int64         \n",
      " 8   Продажи план, тыс.руб         116 non-null    int64         \n",
      " 9   Дата сделки                   116 non-null    datetime64[ns]\n",
      " 10  Дата оплаты                   93 non-null     datetime64[ns]\n",
      " 11  Дней между сделкой и оплатой  116 non-null    object        \n",
      " 12  Статус                        116 non-null    object        \n",
      "dtypes: datetime64[ns](2), int64(3), object(8)\n",
      "memory usage: 11.9+ KB\n"
     ]
    }
   ],
   "source": [
    "import pandas as pd\n",
    "df = pd.read_excel('data.xlsx')\n",
    "df.info()"
   ]
  },
  {
   "cell_type": "markdown",
   "metadata": {},
   "source": [
    "# Подготовка данных\n",
    "\n",
    "Замените названия столбцов при необходимости (приведите к нижнему регистру); Преобразуйте данные в нужные типы. Опишите, в каких столбцах заменили тип данных и почему; Обработайте пропуски при необходимости: Объясните, почему заполнили пропуски определённым образом или почему не стали это делать; Опишите причины, которые могли привести к пропускам; Посчитайте суммарные фактические продажи по всем городам и запишите их в отдельный столбец."
   ]
  },
  {
   "cell_type": "code",
   "execution_count": 5,
   "metadata": {},
   "outputs": [
    {
     "data": {
      "text/plain": [
       "Index(['Номер заказа', 'Канал продаж', 'Продуктовый сегмент', 'Менеджер',\n",
       "       'Название заказа', 'Продавец', 'Город', 'Продажи факт, тыс.руб',\n",
       "       'Продажи план, тыс.руб', 'Дата сделки', 'Дата оплаты',\n",
       "       'Дней между сделкой и оплатой', 'Статус'],\n",
       "      dtype='object')"
      ]
     },
     "execution_count": 5,
     "metadata": {},
     "output_type": "execute_result"
    }
   ],
   "source": [
    "df.columns"
   ]
  },
  {
   "cell_type": "markdown",
   "metadata": {},
   "source": [
    "Приводим названия столбцов к нижнему регистру"
   ]
  },
  {
   "cell_type": "code",
   "execution_count": 6,
   "metadata": {},
   "outputs": [],
   "source": [
    "update = []\n",
    "for i in df.columns:\n",
    "    update.append(i.lower())\n",
    "df.columns = update"
   ]
  },
  {
   "cell_type": "code",
   "execution_count": 7,
   "metadata": {},
   "outputs": [
    {
     "data": {
      "text/plain": [
       "Index(['номер заказа', 'канал продаж', 'продуктовый сегмент', 'менеджер',\n",
       "       'название заказа', 'продавец', 'город', 'продажи факт, тыс.руб',\n",
       "       'продажи план, тыс.руб', 'дата сделки', 'дата оплаты',\n",
       "       'дней между сделкой и оплатой', 'статус'],\n",
       "      dtype='object')"
      ]
     },
     "execution_count": 7,
     "metadata": {},
     "output_type": "execute_result"
    }
   ],
   "source": [
    "df.columns"
   ]
  },
  {
   "cell_type": "markdown",
   "metadata": {},
   "source": [
    "Убираем пропуски"
   ]
  },
  {
   "cell_type": "code",
   "execution_count": 8,
   "metadata": {},
   "outputs": [
    {
     "data": {
      "text/plain": [
       "номер заказа                     0\n",
       "канал продаж                     0\n",
       "продуктовый сегмент              0\n",
       "менеджер                         0\n",
       "название заказа                  0\n",
       "продавец                         0\n",
       "город                            0\n",
       "продажи факт, тыс.руб            0\n",
       "продажи план, тыс.руб            0\n",
       "дата сделки                      0\n",
       "дата оплаты                     23\n",
       "дней между сделкой и оплатой     0\n",
       "статус                           0\n",
       "dtype: int64"
      ]
     },
     "execution_count": 8,
     "metadata": {},
     "output_type": "execute_result"
    }
   ],
   "source": [
    "df.isna().sum()"
   ]
  },
  {
   "cell_type": "code",
   "execution_count": 9,
   "metadata": {},
   "outputs": [],
   "source": [
    "df['дата оплаты'] = df['дата оплаты'].fillna\n"
   ]
  },
  {
   "cell_type": "code",
   "execution_count": 10,
   "metadata": {},
   "outputs": [
    {
     "data": {
      "text/plain": [
       "номер заказа                    0\n",
       "канал продаж                    0\n",
       "продуктовый сегмент             0\n",
       "менеджер                        0\n",
       "название заказа                 0\n",
       "продавец                        0\n",
       "город                           0\n",
       "продажи факт, тыс.руб           0\n",
       "продажи план, тыс.руб           0\n",
       "дата сделки                     0\n",
       "дата оплаты                     0\n",
       "дней между сделкой и оплатой    0\n",
       "статус                          0\n",
       "dtype: int64"
      ]
     },
     "execution_count": 10,
     "metadata": {},
     "output_type": "execute_result"
    }
   ],
   "source": [
    "df.isna().sum()"
   ]
  },
  {
   "cell_type": "markdown",
   "metadata": {},
   "source": [
    "Преобразование данных в нужные типы"
   ]
  },
  {
   "cell_type": "code",
   "execution_count": 11,
   "metadata": {},
   "outputs": [],
   "source": [
    "df['дней между сделкой и оплатой'] = pd.to_numeric(df['дней между сделкой и оплатой'], errors = 'coerce')\n",
    "df['дата оплаты'] = pd.to_datetime(df['дата оплаты'], errors = 'coerce')\n"
   ]
  },
  {
   "cell_type": "code",
   "execution_count": 12,
   "metadata": {},
   "outputs": [
    {
     "name": "stdout",
     "output_type": "stream",
     "text": [
      "<class 'pandas.core.frame.DataFrame'>\n",
      "RangeIndex: 116 entries, 0 to 115\n",
      "Data columns (total 13 columns):\n",
      " #   Column                        Non-Null Count  Dtype         \n",
      "---  ------                        --------------  -----         \n",
      " 0   номер заказа                  116 non-null    int64         \n",
      " 1   канал продаж                  116 non-null    object        \n",
      " 2   продуктовый сегмент           116 non-null    object        \n",
      " 3   менеджер                      116 non-null    object        \n",
      " 4   название заказа               116 non-null    object        \n",
      " 5   продавец                      116 non-null    object        \n",
      " 6   город                         116 non-null    object        \n",
      " 7   продажи факт, тыс.руб         116 non-null    int64         \n",
      " 8   продажи план, тыс.руб         116 non-null    int64         \n",
      " 9   дата сделки                   116 non-null    datetime64[ns]\n",
      " 10  дата оплаты                   0 non-null      datetime64[ns]\n",
      " 11  дней между сделкой и оплатой  93 non-null     float64       \n",
      " 12  статус                        116 non-null    object        \n",
      "dtypes: datetime64[ns](2), float64(1), int64(3), object(7)\n",
      "memory usage: 11.9+ KB\n"
     ]
    }
   ],
   "source": [
    "df.info()"
   ]
  },
  {
   "cell_type": "markdown",
   "metadata": {},
   "source": [
    "суммарные фактические продажи по всем городам"
   ]
  },
  {
   "cell_type": "code",
   "execution_count": 13,
   "metadata": {},
   "outputs": [],
   "source": [
    "df['суммарные фактические продажи'] = df.groupby('город')['продажи факт, тыс.руб'].transform('sum')"
   ]
  },
  {
   "cell_type": "code",
   "execution_count": 14,
   "metadata": {},
   "outputs": [
    {
     "data": {
      "text/html": [
       "<div>\n",
       "<style scoped>\n",
       "    .dataframe tbody tr th:only-of-type {\n",
       "        vertical-align: middle;\n",
       "    }\n",
       "\n",
       "    .dataframe tbody tr th {\n",
       "        vertical-align: top;\n",
       "    }\n",
       "\n",
       "    .dataframe thead th {\n",
       "        text-align: right;\n",
       "    }\n",
       "</style>\n",
       "<table border=\"1\" class=\"dataframe\">\n",
       "  <thead>\n",
       "    <tr style=\"text-align: right;\">\n",
       "      <th></th>\n",
       "      <th>номер заказа</th>\n",
       "      <th>канал продаж</th>\n",
       "      <th>продуктовый сегмент</th>\n",
       "      <th>менеджер</th>\n",
       "      <th>название заказа</th>\n",
       "      <th>продавец</th>\n",
       "      <th>город</th>\n",
       "      <th>продажи факт, тыс.руб</th>\n",
       "      <th>продажи план, тыс.руб</th>\n",
       "      <th>дата сделки</th>\n",
       "      <th>дата оплаты</th>\n",
       "      <th>дней между сделкой и оплатой</th>\n",
       "      <th>статус</th>\n",
       "      <th>суммарные фактические продажи</th>\n",
       "    </tr>\n",
       "  </thead>\n",
       "  <tbody>\n",
       "    <tr>\n",
       "      <th>0</th>\n",
       "      <td>7290</td>\n",
       "      <td>Рекомендация</td>\n",
       "      <td>Ткань и аксессуары</td>\n",
       "      <td>С. Милер</td>\n",
       "      <td>NAM SUNG</td>\n",
       "      <td>Айсберг</td>\n",
       "      <td>Санкт-Петербург</td>\n",
       "      <td>300</td>\n",
       "      <td>500</td>\n",
       "      <td>2020-02-03</td>\n",
       "      <td>NaT</td>\n",
       "      <td>52.0</td>\n",
       "      <td>Закрыто</td>\n",
       "      <td>1370</td>\n",
       "    </tr>\n",
       "    <tr>\n",
       "      <th>1</th>\n",
       "      <td>7291</td>\n",
       "      <td>Рекомендация</td>\n",
       "      <td>Ткань и аксессуары</td>\n",
       "      <td>С. Милер</td>\n",
       "      <td>CP Ткань</td>\n",
       "      <td>Айсберг</td>\n",
       "      <td>Санкт-Петербург</td>\n",
       "      <td>450</td>\n",
       "      <td>500</td>\n",
       "      <td>2020-03-22</td>\n",
       "      <td>NaT</td>\n",
       "      <td>15.0</td>\n",
       "      <td>Закрыто</td>\n",
       "      <td>1370</td>\n",
       "    </tr>\n",
       "    <tr>\n",
       "      <th>2</th>\n",
       "      <td>7436</td>\n",
       "      <td>Рекомендация</td>\n",
       "      <td>Ткань и аксессуары</td>\n",
       "      <td>С. Милер</td>\n",
       "      <td>UNIZIN COMPANY</td>\n",
       "      <td>Айсберг</td>\n",
       "      <td>Санкт-Петербург</td>\n",
       "      <td>0</td>\n",
       "      <td>500</td>\n",
       "      <td>2020-03-23</td>\n",
       "      <td>NaT</td>\n",
       "      <td>NaN</td>\n",
       "      <td>В процессе</td>\n",
       "      <td>1370</td>\n",
       "    </tr>\n",
       "    <tr>\n",
       "      <th>3</th>\n",
       "      <td>7484</td>\n",
       "      <td>Рекомендация</td>\n",
       "      <td>Ткань и аксессуары</td>\n",
       "      <td>С. Милер</td>\n",
       "      <td>NAM SUNG</td>\n",
       "      <td>Айсберг</td>\n",
       "      <td>Санкт-Петербург</td>\n",
       "      <td>500</td>\n",
       "      <td>500</td>\n",
       "      <td>2020-03-04</td>\n",
       "      <td>NaT</td>\n",
       "      <td>1.0</td>\n",
       "      <td>Закрыто</td>\n",
       "      <td>1370</td>\n",
       "    </tr>\n",
       "    <tr>\n",
       "      <th>4</th>\n",
       "      <td>7040</td>\n",
       "      <td>Холодный звонок</td>\n",
       "      <td>Электронные устройства</td>\n",
       "      <td>М. Баили</td>\n",
       "      <td>Электронные устройства</td>\n",
       "      <td>Alen.com</td>\n",
       "      <td>Магнитогорск</td>\n",
       "      <td>100</td>\n",
       "      <td>1000</td>\n",
       "      <td>2020-02-19</td>\n",
       "      <td>NaT</td>\n",
       "      <td>87.0</td>\n",
       "      <td>Закрыто</td>\n",
       "      <td>7680</td>\n",
       "    </tr>\n",
       "  </tbody>\n",
       "</table>\n",
       "</div>"
      ],
      "text/plain": [
       "   номер заказа     канал продаж     продуктовый сегмент  менеджер  \\\n",
       "0          7290     Рекомендация      Ткань и аксессуары  С. Милер   \n",
       "1          7291     Рекомендация      Ткань и аксессуары  С. Милер   \n",
       "2          7436     Рекомендация      Ткань и аксессуары  С. Милер   \n",
       "3          7484     Рекомендация      Ткань и аксессуары  С. Милер   \n",
       "4          7040  Холодный звонок  Электронные устройства  М. Баили   \n",
       "\n",
       "          название заказа  продавец            город  продажи факт, тыс.руб  \\\n",
       "0                NAM SUNG  Айсберг   Санкт-Петербург                    300   \n",
       "1                CP Ткань  Айсберг   Санкт-Петербург                    450   \n",
       "2          UNIZIN COMPANY  Айсберг   Санкт-Петербург                      0   \n",
       "3                NAM SUNG  Айсберг   Санкт-Петербург                    500   \n",
       "4  Электронные устройства  Alen.com     Магнитогорск                    100   \n",
       "\n",
       "   продажи план, тыс.руб дата сделки дата оплаты  \\\n",
       "0                    500  2020-02-03         NaT   \n",
       "1                    500  2020-03-22         NaT   \n",
       "2                    500  2020-03-23         NaT   \n",
       "3                    500  2020-03-04         NaT   \n",
       "4                   1000  2020-02-19         NaT   \n",
       "\n",
       "   дней между сделкой и оплатой      статус  суммарные фактические продажи  \n",
       "0                          52.0     Закрыто                           1370  \n",
       "1                          15.0     Закрыто                           1370  \n",
       "2                           NaN  В процессе                           1370  \n",
       "3                           1.0     Закрыто                           1370  \n",
       "4                          87.0     Закрыто                           7680  "
      ]
     },
     "execution_count": 14,
     "metadata": {},
     "output_type": "execute_result"
    }
   ],
   "source": [
    "df.head()"
   ]
  },
  {
   "cell_type": "markdown",
   "metadata": {},
   "source": [
    "# Исследовательский анализ данных\n",
    "\n",
    "Проведите исследовательский анализ данных\n",
    "\n",
    "Посмотрите, как менеджеры выполняют план продаж.  Какова помесячная динамика выполнения плана, есть ли сезонные «просадки»? Важны ли данные за все периоды? Посмотрите, как менялись продажи по продуктовым сегментам. Выберите сегменты с наибольшими суммарными продажами и постройте распределение по месяцам. Есть ли популярные в прошлом сегменты, у которых сейчас продажи на нуле. \n",
    "\n",
    "Какова география продаж, какие регионы самые доходные?\n",
    "\n",
    "Как влияет канал продаж на выполнение плана, конверсию, длительность сделки?\n",
    "\n",
    "Какие товарные категории пользуются спросом (по числу клиентов) и по продажам?"
   ]
  },
  {
   "cell_type": "markdown",
   "metadata": {},
   "source": [
    "Выполнение плана продаж менеджерами"
   ]
  },
  {
   "cell_type": "code",
   "execution_count": 27,
   "metadata": {},
   "outputs": [
    {
     "data": {
      "text/plain": [
       "менеджер\n",
       "А. Фостер    1.158333\n",
       "М. Баили     1.006837\n",
       "Р. Хайерс    0.798132\n",
       "А. Перри     0.650000\n",
       "С. Милер     0.452000\n",
       "Name: выполнение плана, dtype: float64"
      ]
     },
     "execution_count": 27,
     "metadata": {},
     "output_type": "execute_result"
    }
   ],
   "source": [
    "df['выполнение плана'] = df['продажи факт, тыс.руб'] / df['продажи план, тыс.руб']\n",
    "manager_performance = df.groupby('менеджер')['выполнение плана'].mean().sort_values(ascending=False)\n",
    "manager_performance.head()"
   ]
  },
  {
   "cell_type": "markdown",
   "metadata": {},
   "source": [
    "Помесячная динамика выполнения плана"
   ]
  },
  {
   "cell_type": "code",
   "execution_count": 15,
   "metadata": {},
   "outputs": [
    {
     "data": {
      "image/png": "[encoded data removed]",
      "text/plain": [
       "<Figure size 640x480 with 1 Axes>"
      ]
     },
     "metadata": {},
     "output_type": "display_data"
    }
   ],
   "source": [
    "import matplotlib.pyplot as plt\n",
    "df['выполнение плана'] = df['продажи факт, тыс.руб'] >= df['продажи план, тыс.руб']\n",
    "df['выполнение плана'] = df['выполнение плана'].astype(int)\n",
    "sales_month = df.groupby([df['дата сделки'].dt.month, 'выполнение плана'])['продажи факт, тыс.руб'].sum()\n",
    "sales_month.unstack().plot(kind = 'bar', stacked = True)\n",
    "plt.title('Помесячная динамика выполнения плана')\n",
    "plt.xlabel('Месяц')\n",
    "plt.ylabel('Сумма продаж, тыс. руб')\n",
    "plt.show()"
   ]
  },
  {
   "cell_type": "markdown",
   "metadata": {},
   "source": [
    "Продажи по продуктовым сегментам"
   ]
  },
  {
   "cell_type": "code",
   "execution_count": 16,
   "metadata": {},
   "outputs": [
    {
     "data": {
      "text/plain": [
       "продуктовый сегмент\n",
       "Оборудование              35099\n",
       "Другое                     7225\n",
       "Свет                       6950\n",
       "Ткань и аксессуары         5712\n",
       "Одежда                     4650\n",
       "Электронные устройства     2130\n",
       "Бассейн                    1500\n",
       "Сувениры                    970\n",
       "Спорт товары                750\n",
       "Автозапчасти                700\n",
       "Упаковка                    675\n",
       "Медецина                    400\n",
       "Игрушки                     250\n",
       "Косметика                   200\n",
       "Охота и рыбалка               0\n",
       "Name: продажи факт, тыс.руб, dtype: int64"
      ]
     },
     "execution_count": 16,
     "metadata": {},
     "output_type": "execute_result"
    }
   ],
   "source": [
    "sales = df.groupby('продуктовый сегмент')['продажи факт, тыс.руб'].sum()\n",
    "sales.sort_values(ascending=False)"
   ]
  },
  {
   "cell_type": "markdown",
   "metadata": {},
   "source": [
    "Сегменты с наибольшими суммарными продажами и распределение по месяцам"
   ]
  },
  {
   "cell_type": "code",
   "execution_count": 17,
   "metadata": {},
   "outputs": [
    {
     "data": {
      "text/plain": [
       "Series([], Name: продажи факт, тыс.руб, dtype: int64)"
      ]
     },
     "execution_count": 17,
     "metadata": {},
     "output_type": "execute_result"
    }
   ],
   "source": [
    "top = sales.nlargest(5)\n",
    "top_sales = df[df['продуктовый сегмент'].isin(top.index)]\n",
    "month_sales_top = top_sales.groupby([top_sales['дата оплаты'].dt.month, 'продуктовый сегмент'])['продажи факт, тыс.руб'].sum()\n",
    "month_sales_top_sorted = month_sales_top.groupby(level=0, group_keys=False).apply(lambda x: x.sort_values(ascending=False))\n",
    "month_sales_top_sorted"
   ]
  },
  {
   "cell_type": "markdown",
   "metadata": {},
   "source": [
    "География продаж"
   ]
  },
  {
   "cell_type": "code",
   "execution_count": 18,
   "metadata": {},
   "outputs": [
    {
     "data": {
      "text/plain": [
       "город\n",
       "Челябинск          8700\n",
       "Казань             8040\n",
       "Магнитогорск       7680\n",
       "Сочи               6950\n",
       "Новосибирск        5725\n",
       "Самара             5574\n",
       "Уфа                4350\n",
       "Волгоград          4250\n",
       "Москва             3717\n",
       "Оренбург           2750\n",
       "Тула               1850\n",
       "Нижний Новгород    1635\n",
       "Кемерово           1500\n",
       "Санкт-Петербург    1370\n",
       "Улан-Удэ            970\n",
       "Пермь               770\n",
       "Курск               700\n",
       "Саратов             430\n",
       "Омск                250\n",
       "Севастополь           0\n",
       "Стоврополь            0\n",
       "Липецк                0\n",
       "Ярославль             0\n",
       "Name: продажи факт, тыс.руб, dtype: int64"
      ]
     },
     "execution_count": 18,
     "metadata": {},
     "output_type": "execute_result"
    }
   ],
   "source": [
    "city = df.groupby('город')['продажи факт, тыс.руб'].sum().sort_values(ascending=False)\n",
    "city"
   ]
  },
  {
   "cell_type": "markdown",
   "metadata": {},
   "source": [
    "Влияние канала продаж на выполнение плана"
   ]
  },
  {
   "cell_type": "code",
   "execution_count": 19,
   "metadata": {},
   "outputs": [
    {
     "data": {
      "text/plain": [
       "канал продаж\n",
       "Холодный звонок        0.363636\n",
       "Рекомендация           0.343750\n",
       "Выставка               0.277778\n",
       "Почта                  0.250000\n",
       "Вебсайт                0.000000\n",
       "Контекстная реклама    0.000000\n",
       "Name: выполнение плана, dtype: float64"
      ]
     },
     "execution_count": 19,
     "metadata": {},
     "output_type": "execute_result"
    }
   ],
   "source": [
    "plan = df.groupby('канал продаж')['выполнение плана'].mean().sort_values(ascending=False)\n",
    "plan"
   ]
  },
  {
   "cell_type": "markdown",
   "metadata": {},
   "source": [
    "Конверсия"
   ]
  },
  {
   "cell_type": "code",
   "execution_count": 20,
   "metadata": {},
   "outputs": [
    {
     "name": "stderr",
     "output_type": "stream",
     "text": [
      "C:\\Users\\teryx\\AppData\\Local\\Temp\\ipykernel_10816\\428094700.py:1: DeprecationWarning: DataFrameGroupBy.apply operated on the grouping columns. This behavior is deprecated, and in a future version of pandas the grouping columns will be excluded from the operation. Either pass `include_groups=False` to exclude the groupings or explicitly select the grouping columns after groupby to silence this warning.\n",
      "  conversion = df.groupby('канал продаж').apply(lambda x: x['продажи факт, тыс.руб'].sum() / x['продажи план, тыс.руб'].sum()).sort_values(ascending=False)\n"
     ]
    },
    {
     "data": {
      "text/plain": [
       "канал продаж\n",
       "Рекомендация           1.060882\n",
       "Выставка               0.806873\n",
       "Холодный звонок        0.806769\n",
       "Почта                  0.442857\n",
       "Вебсайт                0.400000\n",
       "Контекстная реклама    0.350000\n",
       "dtype: float64"
      ]
     },
     "execution_count": 20,
     "metadata": {},
     "output_type": "execute_result"
    }
   ],
   "source": [
    "conversion = df.groupby('канал продаж').apply(lambda x: x['продажи факт, тыс.руб'].sum() / x['продажи план, тыс.руб'].sum()).sort_values(ascending=False)\n",
    "conversion"
   ]
  },
  {
   "cell_type": "markdown",
   "metadata": {},
   "source": [
    "Длительность сделки"
   ]
  },
  {
   "cell_type": "code",
   "execution_count": 21,
   "metadata": {},
   "outputs": [
    {
     "data": {
      "text/plain": [
       "канал продаж\n",
       "Почта                  57.000000\n",
       "Холодный звонок        44.033333\n",
       "Контекстная реклама    29.800000\n",
       "Рекомендация           26.440000\n",
       "Вебсайт                20.000000\n",
       "Выставка                9.214286\n",
       "Name: дней между сделкой и оплатой, dtype: float64"
      ]
     },
     "execution_count": 21,
     "metadata": {},
     "output_type": "execute_result"
    }
   ],
   "source": [
    "duration = df.groupby('канал продаж')['дней между сделкой и оплатой'].mean().sort_values(ascending=False)\n",
    "duration"
   ]
  },
  {
   "cell_type": "markdown",
   "metadata": {},
   "source": [
    "Товарные категории которые пользуются спросом по числу клиентов"
   ]
  },
  {
   "cell_type": "code",
   "execution_count": 28,
   "metadata": {},
   "outputs": [
    {
     "data": {
      "text/plain": [
       "продуктовый сегмент\n",
       "Оборудование              7\n",
       "Ткань и аксессуары        6\n",
       "Другое                    4\n",
       "Одежда                    4\n",
       "Электронные устройства    4\n",
       "Name: продавец, dtype: int64"
      ]
     },
     "execution_count": 28,
     "metadata": {},
     "output_type": "execute_result"
    }
   ],
   "source": [
    "category_demand = df.groupby('продуктовый сегмент')['продавец'].nunique().sort_values(ascending=False)\n",
    "category_demand.head()"
   ]
  },
  {
   "cell_type": "markdown",
   "metadata": {},
   "source": [
    "Товарные категории которые пользуются спросом по числу продаж"
   ]
  },
  {
   "cell_type": "code",
   "execution_count": 29,
   "metadata": {},
   "outputs": [
    {
     "data": {
      "text/plain": [
       "продуктовый сегмент\n",
       "Оборудование              46\n",
       "Ткань и аксессуары        21\n",
       "Свет                      12\n",
       "Другое                    10\n",
       "Электронные устройства     7\n",
       "Name: номер заказа, dtype: int64"
      ]
     },
     "execution_count": 29,
     "metadata": {},
     "output_type": "execute_result"
    }
   ],
   "source": [
    "category_sales = df.groupby('продуктовый сегмент')['номер заказа'].count().sort_values(ascending=False)\n",
    "category_sales.head()"
   ]
  },
  {
   "cell_type": "markdown",
   "metadata": {},
   "source": [
    "# Общий вывод\n",
    "На основании исследовательского анализа сделайте вывод относительно того, что стоит ли\n",
    " - Профилировать ли менеджеров по товарным категориям или каналам продаж (где они лучше закрывают сделки, выполняют план)\n",
    " - Расширять самые доходные каналы продаж, регионы, где есть высокий спрос"
   ]
  },
  {
   "cell_type": "markdown",
   "metadata": {},
   "source": [
    "Менеджеры показывают разные результаты по выполнению плана продаж в зависимости от товарных категорий и каналов продаж. Например, один менеджер может успешно закрывать сделки в сегменте \"Электронные устройства\", но иметь низкие результаты в сегменте \"Ткань и аксессуары\".\n",
    "Рекомендуется профилировать менеджеров по сильным сторонам. Это позволит направлять их усилия на более перспективные категории и каналы, где их эффективность выше. Также можно обучить менеджеров, показывающих слабые результаты в определённых сегментах."
   ]
  }
 ],
 "metadata": {
  "kernelspec": {
   "display_name": "Python 3",
   "language": "python",
   "name": "python3"
  },
  "language_info": {
   "codemirror_mode": {
    "name": "ipython",
    "version": 3
   },
   "file_extension": ".py",
   "mimetype": "text/x-python",
   "name": "python",
   "nbconvert_exporter": "python",
   "pygments_lexer": "ipython3",
   "version": "3.11.6"
  }
 },
 "nbformat": 4,
 "nbformat_minor": 4
}
